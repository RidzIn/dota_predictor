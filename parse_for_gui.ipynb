{
 "cells": [
  {
   "cell_type": "code",
   "execution_count": 7,
   "id": "initial_id",
   "metadata": {
    "collapsed": true,
    "ExecuteTime": {
     "end_time": "2024-04-18T19:47:30.833590800Z",
     "start_time": "2024-04-18T19:47:30.815949500Z"
    }
   },
   "outputs": [],
   "source": [
    "from parser.util import reshape_pick\n",
    "import pandas as pd\n",
    "from parser.parse_match import MatchParser\n",
    "from parser.util import reshape_positions, reshaped_df\n",
    "\n",
    "def get_teams(response):\n",
    "    bottom_span = response.text.find('picks__new-picks')\n",
    "    top_span = response.text.find('picks__new-plus__placeholder')\n",
    "    span = response.text[bottom_span:top_span]\n",
    "    id_1 = span.find('https://dltv.org/teams/')\n",
    "    team_1 = span[id_1:id_1+100].split('\"')[0]\n",
    "\n",
    "\n",
    "    id_2 = span[id_1+100:].find('https://dltv.org/teams/')\n",
    "    team_2 = span[id_1+100+id_2: id_1+id_2+500].split('\"')[0]\n",
    "    team_1 = team_1.split(\"/\")[-1]\n",
    "    team_2 = team_2.split(\"/\")[-1]\n",
    "    return {'team_1': team_1, 'team_2': team_2}\n",
    "\n",
    "def get_data(df, map):\n",
    "    pick_data_1 = {'side': df.iloc[map]['TEAM_0_SIDE'], 'pick': df.iloc[map]['TEAM_0_HEROES'], 'team': df.iloc[map]['TEAM_0_NAME']}\n",
    "\n",
    "    pick_data_2 = {'side': df.iloc[map]['TEAM_1_SIDE'], 'pick': df.iloc[map]['TEAM_1_HEROES'], 'team': df.iloc[map]['TEAM_1_NAME']}\n",
    "    if df.iloc[map]['TEAM_0_SIDE'] == 'radiant':\n",
    "        return pick_data_1, pick_data_2\n",
    "    else:\n",
    "        return pick_data_2, pick_data_1\n",
    "\n",
    "def get_df(match_link):\n",
    "    mp = MatchParser(match_link=match_link)\n",
    "\n",
    "    match = mp.generate_csv_data_map()\n",
    "    my_data = []\n",
    "\n",
    "    match = match.split(\"\\n\")\n",
    "    for j in match:\n",
    "        if len(j) > 10:\n",
    "            my_data.append(j)\n",
    "\n",
    "    columns = [\n",
    "            \"MATCH_ID\",\n",
    "            \"MAP\",\n",
    "            \"TOURNAMENT\",\n",
    "            \"TEAM\",\n",
    "            \"SIDE\",\n",
    "            \"SCORE\",\n",
    "            \"RESULT\",\n",
    "            \"DURATION\",\n",
    "            \"HERO_1\",\n",
    "            \"HERO_2\",\n",
    "            \"HERO_3\",\n",
    "            \"HERO_4\",\n",
    "            \"HERO_5\",\n",
    "        ]\n",
    "\n",
    "    data = [list(i.replace(\", \", \"\").split(\",\")) for i in my_data]\n",
    "    df = pd.DataFrame(data, columns=columns)\n",
    "    return reshaped_df(reshape_positions(df))\n",
    "\n",
    "def get_pick_data(bottom_span, response, heroes_list):\n",
    "    pick_data = {'side': None, 'pick': [], 'team': None}\n",
    "    \n",
    "    pick_raw = response.text[bottom_span: bottom_span+ response.text[bottom_span:].find('div class=\"bans\"') ]\n",
    "\n",
    "    pick_data['side'] = 'radiant' if pick_raw.find('radiant') != -1 else 'dire'\n",
    "    \n",
    "    for hero in heroes_list:\n",
    "        if pick_raw.find(hero) != -1:\n",
    "            pick_data['pick'].append(hero)\n",
    "    pick_data['pick'] = list(reshape_pick(pick_data['pick']).values())\n",
    "    return pick_data"
   ]
  },
  {
   "cell_type": "code",
   "execution_count": 8,
   "outputs": [],
   "source": [
    "import requests\n",
    "\n",
    "def get_parsed_data(match_link, live=True, map=None):\n",
    "    if live:\n",
    "        response = requests.get(match_link)\n",
    "        teams = get_teams(response)\n",
    "\n",
    "        dire_span = response.text.find('<div class=\"picks__new-picks__picks dire\">')\n",
    "        radiant_span = response.text.find('<div class=\"picks__new-picks__picks radiant\">')\n",
    "        first_span = (dire_span, radiant_span) if dire_span < radiant_span else (radiant_span, dire_span)\n",
    "\n",
    "        heroes_list = []\n",
    "\n",
    "        with open('parser/heroes.txt') as heroes:\n",
    "            for line in heroes:\n",
    "                heroes_list.append(line.strip())\n",
    "\n",
    "\n",
    "        temp_1 = get_pick_data(first_span[0], response, heroes_list)\n",
    "        temp_1['team'] = teams['team_1']\n",
    "        temp_2 = get_pick_data(first_span[1], response, heroes_list)\n",
    "        temp_2['team'] = teams['team_2']\n",
    "\n",
    "        return (temp_1, temp_2) if temp_1['side'] == 'radiant' else (temp_2, temp_1)\n",
    "    else:\n",
    "        df = get_df(match_link)\n",
    "        return get_data(df, map)\n"
   ],
   "metadata": {
    "collapsed": false,
    "ExecuteTime": {
     "end_time": "2024-04-18T19:47:31.254247200Z",
     "start_time": "2024-04-18T19:47:31.231817Z"
    }
   },
   "id": "7aba48b57f067c0c"
  },
  {
   "cell_type": "code",
   "execution_count": 12,
   "outputs": [
    {
     "name": "stdout",
     "output_type": "stream",
     "text": [
      "9461\n"
     ]
    },
    {
     "name": "stderr",
     "output_type": "stream",
     "text": [
      "100%|██████████| 3/3 [00:00<00:00, 249.33it/s]\n"
     ]
    },
    {
     "ename": "IndexError",
     "evalue": "single positional indexer is out-of-bounds",
     "output_type": "error",
     "traceback": [
      "\u001B[0;31m---------------------------------------------------------------------------\u001B[0m",
      "\u001B[0;31mIndexError\u001B[0m                                Traceback (most recent call last)",
      "Input \u001B[0;32mIn [12]\u001B[0m, in \u001B[0;36m<cell line: 1>\u001B[0;34m()\u001B[0m\n\u001B[0;32m----> 1\u001B[0m \u001B[43mget_parsed_data\u001B[49m\u001B[43m(\u001B[49m\u001B[38;5;124;43m'\u001B[39;49m\u001B[38;5;124;43mhttps://dltv.org/matches/413886\u001B[39;49m\u001B[38;5;124;43m'\u001B[39;49m\u001B[43m,\u001B[49m\u001B[43m \u001B[49m\u001B[43mlive\u001B[49m\u001B[38;5;241;43m=\u001B[39;49m\u001B[38;5;28;43;01mFalse\u001B[39;49;00m\u001B[43m,\u001B[49m\u001B[43m \u001B[49m\u001B[38;5;28;43mmap\u001B[39;49m\u001B[38;5;241;43m=\u001B[39;49m\u001B[38;5;241;43m3\u001B[39;49m\u001B[43m)\u001B[49m\n",
      "Input \u001B[0;32mIn [8]\u001B[0m, in \u001B[0;36mget_parsed_data\u001B[0;34m(match_link, live, map)\u001B[0m\n\u001B[1;32m     25\u001B[0m \u001B[38;5;28;01melse\u001B[39;00m:\n\u001B[1;32m     26\u001B[0m     df \u001B[38;5;241m=\u001B[39m get_df(match_link)\n\u001B[0;32m---> 27\u001B[0m     \u001B[38;5;28;01mreturn\u001B[39;00m \u001B[43mget_data\u001B[49m\u001B[43m(\u001B[49m\u001B[43mdf\u001B[49m\u001B[43m,\u001B[49m\u001B[43m \u001B[49m\u001B[38;5;28;43mmap\u001B[39;49m\u001B[43m)\u001B[49m\n",
      "Input \u001B[0;32mIn [7]\u001B[0m, in \u001B[0;36mget_data\u001B[0;34m(df, map)\u001B[0m\n\u001B[1;32m     20\u001B[0m \u001B[38;5;28;01mdef\u001B[39;00m \u001B[38;5;21mget_data\u001B[39m(df, \u001B[38;5;28mmap\u001B[39m):\n\u001B[0;32m---> 21\u001B[0m     pick_data_1 \u001B[38;5;241m=\u001B[39m {\u001B[38;5;124m'\u001B[39m\u001B[38;5;124mside\u001B[39m\u001B[38;5;124m'\u001B[39m: \u001B[43mdf\u001B[49m\u001B[38;5;241;43m.\u001B[39;49m\u001B[43miloc\u001B[49m\u001B[43m[\u001B[49m\u001B[38;5;28;43mmap\u001B[39;49m\u001B[43m]\u001B[49m[\u001B[38;5;124m'\u001B[39m\u001B[38;5;124mTEAM_0_SIDE\u001B[39m\u001B[38;5;124m'\u001B[39m], \u001B[38;5;124m'\u001B[39m\u001B[38;5;124mpick\u001B[39m\u001B[38;5;124m'\u001B[39m: df\u001B[38;5;241m.\u001B[39miloc[\u001B[38;5;28mmap\u001B[39m][\u001B[38;5;124m'\u001B[39m\u001B[38;5;124mTEAM_0_HEROES\u001B[39m\u001B[38;5;124m'\u001B[39m], \u001B[38;5;124m'\u001B[39m\u001B[38;5;124mteam\u001B[39m\u001B[38;5;124m'\u001B[39m: df\u001B[38;5;241m.\u001B[39miloc[\u001B[38;5;28mmap\u001B[39m][\u001B[38;5;124m'\u001B[39m\u001B[38;5;124mTEAM_0_NAME\u001B[39m\u001B[38;5;124m'\u001B[39m]}\n\u001B[1;32m     23\u001B[0m     pick_data_2 \u001B[38;5;241m=\u001B[39m {\u001B[38;5;124m'\u001B[39m\u001B[38;5;124mside\u001B[39m\u001B[38;5;124m'\u001B[39m: df\u001B[38;5;241m.\u001B[39miloc[\u001B[38;5;28mmap\u001B[39m][\u001B[38;5;124m'\u001B[39m\u001B[38;5;124mTEAM_1_SIDE\u001B[39m\u001B[38;5;124m'\u001B[39m], \u001B[38;5;124m'\u001B[39m\u001B[38;5;124mpick\u001B[39m\u001B[38;5;124m'\u001B[39m: df\u001B[38;5;241m.\u001B[39miloc[\u001B[38;5;28mmap\u001B[39m][\u001B[38;5;124m'\u001B[39m\u001B[38;5;124mTEAM_1_HEROES\u001B[39m\u001B[38;5;124m'\u001B[39m], \u001B[38;5;124m'\u001B[39m\u001B[38;5;124mteam\u001B[39m\u001B[38;5;124m'\u001B[39m: df\u001B[38;5;241m.\u001B[39miloc[\u001B[38;5;28mmap\u001B[39m][\u001B[38;5;124m'\u001B[39m\u001B[38;5;124mTEAM_1_NAME\u001B[39m\u001B[38;5;124m'\u001B[39m]}\n\u001B[1;32m     24\u001B[0m     \u001B[38;5;28;01mif\u001B[39;00m df\u001B[38;5;241m.\u001B[39miloc[\u001B[38;5;28mmap\u001B[39m][\u001B[38;5;124m'\u001B[39m\u001B[38;5;124mTEAM_0_SIDE\u001B[39m\u001B[38;5;124m'\u001B[39m] \u001B[38;5;241m==\u001B[39m \u001B[38;5;124m'\u001B[39m\u001B[38;5;124mradiant\u001B[39m\u001B[38;5;124m'\u001B[39m:\n",
      "File \u001B[0;32m/Library/Frameworks/Python.framework/Versions/3.8/lib/python3.8/site-packages/pandas/core/indexing.py:967\u001B[0m, in \u001B[0;36m_LocationIndexer.__getitem__\u001B[0;34m(self, key)\u001B[0m\n\u001B[1;32m    964\u001B[0m axis \u001B[38;5;241m=\u001B[39m \u001B[38;5;28mself\u001B[39m\u001B[38;5;241m.\u001B[39maxis \u001B[38;5;129;01mor\u001B[39;00m \u001B[38;5;241m0\u001B[39m\n\u001B[1;32m    966\u001B[0m maybe_callable \u001B[38;5;241m=\u001B[39m com\u001B[38;5;241m.\u001B[39mapply_if_callable(key, \u001B[38;5;28mself\u001B[39m\u001B[38;5;241m.\u001B[39mobj)\n\u001B[0;32m--> 967\u001B[0m \u001B[38;5;28;01mreturn\u001B[39;00m \u001B[38;5;28;43mself\u001B[39;49m\u001B[38;5;241;43m.\u001B[39;49m\u001B[43m_getitem_axis\u001B[49m\u001B[43m(\u001B[49m\u001B[43mmaybe_callable\u001B[49m\u001B[43m,\u001B[49m\u001B[43m \u001B[49m\u001B[43maxis\u001B[49m\u001B[38;5;241;43m=\u001B[39;49m\u001B[43maxis\u001B[49m\u001B[43m)\u001B[49m\n",
      "File \u001B[0;32m/Library/Frameworks/Python.framework/Versions/3.8/lib/python3.8/site-packages/pandas/core/indexing.py:1520\u001B[0m, in \u001B[0;36m_iLocIndexer._getitem_axis\u001B[0;34m(self, key, axis)\u001B[0m\n\u001B[1;32m   1517\u001B[0m     \u001B[38;5;28;01mraise\u001B[39;00m \u001B[38;5;167;01mTypeError\u001B[39;00m(\u001B[38;5;124m\"\u001B[39m\u001B[38;5;124mCannot index by location index with a non-integer key\u001B[39m\u001B[38;5;124m\"\u001B[39m)\n\u001B[1;32m   1519\u001B[0m \u001B[38;5;66;03m# validate the location\u001B[39;00m\n\u001B[0;32m-> 1520\u001B[0m \u001B[38;5;28;43mself\u001B[39;49m\u001B[38;5;241;43m.\u001B[39;49m\u001B[43m_validate_integer\u001B[49m\u001B[43m(\u001B[49m\u001B[43mkey\u001B[49m\u001B[43m,\u001B[49m\u001B[43m \u001B[49m\u001B[43maxis\u001B[49m\u001B[43m)\u001B[49m\n\u001B[1;32m   1522\u001B[0m \u001B[38;5;28;01mreturn\u001B[39;00m \u001B[38;5;28mself\u001B[39m\u001B[38;5;241m.\u001B[39mobj\u001B[38;5;241m.\u001B[39m_ixs(key, axis\u001B[38;5;241m=\u001B[39maxis)\n",
      "File \u001B[0;32m/Library/Frameworks/Python.framework/Versions/3.8/lib/python3.8/site-packages/pandas/core/indexing.py:1452\u001B[0m, in \u001B[0;36m_iLocIndexer._validate_integer\u001B[0;34m(self, key, axis)\u001B[0m\n\u001B[1;32m   1450\u001B[0m len_axis \u001B[38;5;241m=\u001B[39m \u001B[38;5;28mlen\u001B[39m(\u001B[38;5;28mself\u001B[39m\u001B[38;5;241m.\u001B[39mobj\u001B[38;5;241m.\u001B[39m_get_axis(axis))\n\u001B[1;32m   1451\u001B[0m \u001B[38;5;28;01mif\u001B[39;00m key \u001B[38;5;241m>\u001B[39m\u001B[38;5;241m=\u001B[39m len_axis \u001B[38;5;129;01mor\u001B[39;00m key \u001B[38;5;241m<\u001B[39m \u001B[38;5;241m-\u001B[39mlen_axis:\n\u001B[0;32m-> 1452\u001B[0m     \u001B[38;5;28;01mraise\u001B[39;00m \u001B[38;5;167;01mIndexError\u001B[39;00m(\u001B[38;5;124m\"\u001B[39m\u001B[38;5;124msingle positional indexer is out-of-bounds\u001B[39m\u001B[38;5;124m\"\u001B[39m)\n",
      "\u001B[0;31mIndexError\u001B[0m: single positional indexer is out-of-bounds"
     ]
    }
   ],
   "source": [
    "get_parsed_data('https://dltv.org/matches/413886', live=False, map=3)"
   ],
   "metadata": {
    "collapsed": false,
    "ExecuteTime": {
     "end_time": "2024-04-18T17:45:49.572164500Z",
     "start_time": "2024-04-18T17:45:47.742641900Z"
    },
    "pycharm": {
     "name": "#%%\n"
    }
   },
   "id": "ce285d8db25cb53c"
  }
 ],
 "metadata": {
  "kernelspec": {
   "display_name": "Python 3",
   "language": "python",
   "name": "python3"
  },
  "language_info": {
   "codemirror_mode": {
    "name": "ipython",
    "version": 2
   },
   "file_extension": ".py",
   "mimetype": "text/x-python",
   "name": "python",
   "nbconvert_exporter": "python",
   "pygments_lexer": "ipython2",
   "version": "2.7.6"
  }
 },
 "nbformat": 4,
 "nbformat_minor": 5
}