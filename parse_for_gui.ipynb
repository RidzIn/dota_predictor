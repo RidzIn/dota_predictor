{
 "cells": [
  {
   "cell_type": "code",
   "execution_count": 24,
   "id": "initial_id",
   "metadata": {
    "collapsed": true,
    "ExecuteTime": {
     "end_time": "2024-04-18T19:47:30.833590800Z",
     "start_time": "2024-04-18T19:47:30.815949500Z"
    }
   },
   "outputs": [],
   "source": [
    "from parser.util import reshape_pick\n",
    "\n",
    "def get_pick_data(bottom_span, response, heroes_list):\n",
    "    pick_data = {'side': None, 'pick': [], 'team': None}\n",
    "    \n",
    "    pick_raw = response.text[bottom_span: bottom_span+ response.text[bottom_span:].find('div class=\"bans\"') ]\n",
    "\n",
    "    pick_data['side'] = 'radiant' if pick_raw.find('radiant') != -1 else 'dire'\n",
    "    \n",
    "    for hero in heroes_list:\n",
    "        if pick_raw.find(hero) != -1:\n",
    "            pick_data['pick'].append(hero)\n",
    "    pick_data['pick'] = list(reshape_pick(pick_data['pick']).values())\n",
    "    return pick_data"
   ]
  },
  {
   "cell_type": "code",
   "execution_count": 25,
   "outputs": [],
   "source": [
    "import requests\n",
    "\n",
    "def get_parsed_data(match_link):\n",
    "    response = requests.get(match_link)\n",
    "    teams = get_teams(response)\n",
    "    \n",
    "    dire_span = response.text.find('<div class=\"picks__new-picks__picks dire\">')\n",
    "    radiant_span = response.text.find('<div class=\"picks__new-picks__picks radiant\">')\n",
    "    first_span = (dire_span, radiant_span) if dire_span < radiant_span else (radiant_span, dire_span)\n",
    "    \n",
    "    heroes_list = []\n",
    "\n",
    "    with open('parser/heroes.txt') as heroes:\n",
    "        for line in heroes:\n",
    "            heroes_list.append(line.strip())\n",
    "            \n",
    "    \n",
    "    temp_1 = get_pick_data(first_span[0], response, heroes_list)\n",
    "    temp_1['team'] = teams['team_1']\n",
    "    temp_2 = get_pick_data(first_span[1], response, heroes_list)\n",
    "    temp_2['team'] = teams['team_2']\n",
    "    \n",
    "    return (temp_1, temp_2) if temp_1['side'] == 'radiant' else (temp_2, temp_1)"
   ],
   "metadata": {
    "collapsed": false,
    "ExecuteTime": {
     "end_time": "2024-04-18T19:47:31.254247200Z",
     "start_time": "2024-04-18T19:47:31.231817Z"
    }
   },
   "id": "7aba48b57f067c0c"
  },
  {
   "cell_type": "code",
   "execution_count": 5,
   "outputs": [
    {
     "data": {
      "text/plain": "({'side': 'radiant',\n  'pick': ['Terrorblade',\n   'Pangolier',\n   'Doom',\n   'Dark Willow',\n   'Crystal Maiden']},\n {'side': 'dire',\n  'pick': ['Templar Assassin',\n   'Puck',\n   'Centaur Warrunner',\n   'Techies',\n   'Tiny']})"
     },
     "execution_count": 5,
     "metadata": {},
     "output_type": "execute_result"
    }
   ],
   "source": [
    "get_parsed_data('https://dltv.org/matches/413886')\n"
   ],
   "metadata": {
    "collapsed": false,
    "ExecuteTime": {
     "end_time": "2024-04-18T17:45:49.572164500Z",
     "start_time": "2024-04-18T17:45:47.742641900Z"
    }
   },
   "id": "ce285d8db25cb53c"
  },
  {
   "cell_type": "code",
   "execution_count": 7,
   "outputs": [],
   "source": [
    "response = requests.get('https://dltv.org/matches/413887')\n"
   ],
   "metadata": {
    "collapsed": false,
    "ExecuteTime": {
     "end_time": "2024-04-18T19:29:17.061015500Z",
     "start_time": "2024-04-18T19:29:15.355948400Z"
    }
   },
   "id": "a44d7d67119b8222"
  },
  {
   "cell_type": "code",
   "execution_count": 8,
   "outputs": [
    {
     "data": {
      "text/plain": "168764"
     },
     "execution_count": 8,
     "metadata": {},
     "output_type": "execute_result"
    }
   ],
   "source": [
    "response.text.find('picks__new-picks')"
   ],
   "metadata": {
    "collapsed": false,
    "ExecuteTime": {
     "end_time": "2024-04-18T19:29:17.620140100Z",
     "start_time": "2024-04-18T19:29:17.592083500Z"
    }
   },
   "id": "c77173dd59551e26"
  },
  {
   "cell_type": "code",
   "execution_count": 9,
   "outputs": [
    {
     "data": {
      "text/plain": "184131"
     },
     "execution_count": 9,
     "metadata": {},
     "output_type": "execute_result"
    }
   ],
   "source": [
    "response.text.find('picks__new-plus')"
   ],
   "metadata": {
    "collapsed": false,
    "ExecuteTime": {
     "end_time": "2024-04-18T19:30:44.269726100Z",
     "start_time": "2024-04-18T19:30:44.250922500Z"
    }
   },
   "id": "505d771b78967e21"
  },
  {
   "cell_type": "code",
   "execution_count": 17,
   "outputs": [
    {
     "data": {
      "text/plain": "'picks__new-picks .bans\" data-collapse-show=\"Show Bans\" data-collapse-hide=\"Hide Bans\">Show Bans</div>\\n                </div>\\n            </div>\\n\\n            <div class=\"picks__new-picks\" >\\n                <a href=\"https://dltv.org/teams/asakura\" class=\"picks__new-picks__team desktop-none\">\\n                    <span class=\"logo\" style=\"background-image: url(\\'/uploads/teams/small/tk4enuEl65niWgtAC3A9KhjT6idQt42K.png.webp\\')\"></span>\\n                    <span class=\"title\">Asakura <span class=\"text-green\">picks</span> & <span class=\"text-red\">bans</span></span>\\n                </a>\\n                <div class=\"picks__new-picks__picks radiant\">\\n                    <div class=\"items\" >\\n                                                    <div class=\"pick player\" data-hero-id=\"65\" data-tippy-content=\"Batrider\">\\n                                <div class=\"pick__image\" style=\"background-image: url(\\'/uploads/heroes/Rwo2oEa3jbTZnD26CE8OkzKTz638bC8A.png\\');\"></div>\\n                                                                    <a href=\"https://dltv.org/players/333?date_range=4#hero-batrider\" class=\"pick__stats\">5 | 60%</a>\\n                                    <a href=\"https://dltv.org/players/333\" target=\"_blank\" class=\"pick__player\">\\n                                        <span class=\"pick__player-flag\" style=\"background-image: url(\\'/assets/plugins/flag-icon/flags/4x3/ru.svg\\')\"></span>\\n                                        <span class=\"pick__player-title\">333</span>\\n                                    </a>\\n                                \\n                                                            </div>\\n                                                    <div class=\"pick player\" data-hero-id=\"91\" data-tippy-content=\"Io\">\\n                                <div class=\"pick__image\" style=\"background-image: url(\\'/uploads/heroes/i4u1Wb7uYGNqIAHKEI5ThkukESoQoDQ8.png\\');\"></div>\\n                                                                    <a href=\"https://dltv.org/players/hduo?date_range=4#hero-io\" class=\"pick__stats\">2 | 50%</a>\\n                                    <a href=\"https://dltv.org/players/hduo\" target=\"_blank\" class=\"pick__player\">\\n                                        <span class=\"pick__player-flag\" style=\"background-image: url(\\'/assets/plugins/flag-icon/flags/4x3/ua.svg\\')\"></span>\\n                                        <span class=\"pick__player-title\">Hduo</span>\\n                                    </a>\\n                                \\n                                                            </div>\\n                                                    <div class=\"pick player\" data-hero-id=\"136\" data-tippy-content=\"Marci\">\\n                                <div class=\"pick__image\" style=\"background-image: url(\\'/uploads/heroes/k6HbRs8BEWZczqYNBqQaw6DeEjpp4kps.png\\');\"></div>\\n                                                                    <a href=\"https://dltv.org/players/smiling-knight?date_range=4#hero-marci\" class=\"pick__stats\">2 | 50%</a>\\n                                    <a href=\"https://dltv.org/players/smiling-knight\" target=\"_blank\" class=\"pick__player\">\\n                                        <span class=\"pick__player-flag\" style=\"background-image: url(\\'/assets/plugins/flag-icon/flags/4x3/by.svg\\')\"></span>\\n                                        <span class=\"pick__player-title\">Smiling Knight</span>\\n                                    </a>\\n                                \\n                                                            </div>\\n                                                    <div class=\"pick player\" data-hero-id=\"120\" data-tippy-content=\"Pangolier\">\\n                                <div class=\"pick__image\" style=\"background-image: url(\\'/uploads/heroes/4YBvYjfUVoOqEQtjBXCB5zuwkU4bbiDg.png\\');\"></div>\\n                                                                    <a href=\"https://dltv.org/players/laise?date_range=4#hero-pangolier\" class=\"pick__stats\">6 | 50%</a>\\n                                    <a href=\"https://dltv.org/players/laise\" target=\"_blank\" class=\"pick__player\">\\n                                        <span class=\"pick__player-flag\" style=\"background-image: url(\\'/assets/plugins/flag-icon/flags/4x3/ua.svg\\')\"></span>\\n                                        <span class=\"pick__player-title\">laise</span>\\n                                    </a>\\n                                \\n                                                            </div>\\n                                                    <div class=\"pick player\" data-hero-id=\"25\" data-tippy-content=\"Lina\">\\n                                <div class=\"pick__image\" style=\"background-image: url(\\'/uploads/heroes/ewMEGZu2wocew9AcviKoZTDApjktEVgd.png\\');\"></div>\\n                                                                    <a href=\"https://dltv.org/players/young-g?date_range=4#hero-lina\" class=\"pick__stats\">10 | 60%</a>\\n                                    <a href=\"https://dltv.org/players/young-g\" target=\"_blank\" class=\"pick__player\">\\n                                        <span class=\"pick__player-flag\" style=\"background-image: url(\\'/assets/plugins/flag-icon/flags/4x3/by.svg\\')\"></span>\\n                                        <span class=\"pick__player-title\">young G</span>\\n                                    </a>\\n                                \\n                                                            </div>\\n                                            </div>\\n                    <div class=\"bans\" style=\"display: none;\">\\n                                                    <div class=\"ban\" data-hero-id=\"49\" data-tippy-content=\"Dragon Knight\">\\n                                <div class=\"ban__image\" style=\"background-image: url(\\'/uploads/heroes/RTSfrfWdXSnOoKPzJBL4AajZkRQxhOHA.png\\');\"></div>\\n                            </div>\\n                                                    <div class=\"ban\" data-hero-id=\"79\" data-tippy-content=\"Shadow Demon\">\\n                                <div class=\"ban__image\" style=\"background-image: url(\\'/uploads/heroes/t3kWbwzCZMkNf6CvXWlMdF39xbcaTeeo.png\\');\"></div>\\n                            </div>\\n                                                    <div class=\"ban\" data-hero-id=\"52\" data-tippy-content=\"Leshrac\">\\n                                <div class=\"ban__image\" style=\"background-image: url(\\'/uploads/heroes/1zRkhtkVgWwW8LdF2VtHAMA3zTKpvHKG.png\\');\"></div>\\n                            </div>\\n                                                    <div class=\"ban\" data-hero-id=\"119\" data-tippy-content=\"Dark Willow\">\\n                                <div class=\"ban__image\" style=\"background-image: url(\\'/uploads/heroes/n9Iaxtlt4OSB0CDaaN7enKDEragv40WX.png\\');\"></div>\\n                            </div>\\n                                                    <div class=\"ban\" data-hero-id=\"121\" data-tippy-content=\"Grimstroke\">\\n                                <div class=\"ban__image\" style=\"background-image: url(\\'/uploads/heroes/hEOz70EufKM1SvIpY1LazNvKArtuZY2s.png\\');\"></div>\\n                            </div>\\n                                                    <div class=\"ban\" data-hero-id=\"13\" data-tippy-content=\"Puck\">\\n                                <div class=\"ban__image\" style=\"background-image: url(\\'/uploads/heroes/AFXZWYuaE282pIyxa4kScNtCKtA4EhHC.png\\');\"></div>\\n                            </div>\\n                                                    <div class=\"ban\" data-hero-id=\"90\" data-tippy-content=\"Keeper of the Light\">\\n                                <div class=\"ban__image\" style=\"background-image: url(\\'/uploads/heroes/1riTHUVom7hmCar2kPjG6A5mvwcmyBU2.png\\');\"></div>\\n                            </div>\\n                                            </div>\\n                </div>\\n                <a href=\"https://dltv.org/teams/l1ga-team\" class=\"picks__new-picks__team desktop-none\">\\n                    <span class=\"logo\" style=\"background-image: url(\\'/uploads/teams/small/uQJaIiSimwmryYQvilcNjjqXo6CYTEiN.png.webp\\')\"></span>\\n                    <span class=\"title\">L1ga Team <span class=\"text-green\">picks</span> & <span class=\"text-red\">bans</span></span>\\n                </a>\\n                <div class=\"picks__new-picks__picks dire\">\\n                    <div class=\"items\" >\\n                                                    <div class=\"pick player\" data-hero-id=\"96\" data-tippy-content=\"Centaur Warrunner\">\\n                                <div class=\"pick__image\" style=\"background-image: url(\\'/uploads/heroes/UkWrK3A4rg9YubgqK3P7syz2sj5GwnjH.png\\');\"></div>\\n                                                                    <a href=\"https://dltv.org/players/bb3px?date_range=4#hero-centaur-warrunner\" class=\"pick__stats\">24 | 46%</a>\\n                                    <a href=\"https://dltv.org/players/bb3px\" target=\"_blank\" class=\"pick__player\">\\n                                        <span class=\"pick__player-flag\" style=\"background-image: url(\\'/assets/plugins/flag-icon/flags/4x3/ru.svg\\')\"></span>\\n                                        <span class=\"pick__player-title\">bb3px</span>\\n                                    </a>\\n                                \\n                                                            </div>\\n                                                    <div class=\"pick player\" data-hero-id=\"26\" data-tippy-content=\"Lion\">\\n                                <div class=\"pick__image\" style=\"background-image: url(\\'/uploads/heroes/1qhQreFjvTjqMMk6YjIpvkXXv2krjZA7.png\\');\"></div>\\n                                                                    <a href=\"https://dltv.org/players/onejey?date_range=4#hero-lion\" class=\"pick__stats\">15 | 67%</a>\\n                                    <a href=\"https://dltv.org/players/onejey\" target=\"_blank\" class=\"pick__player\">\\n                                        <span class=\"pick__player-flag\" style=\"background-image: url(\\'/assets/plugins/flag-icon/flags/4x3/by.svg\\')\"></span>\\n                                        <span class=\"pick__player-title\">OneJey</span>\\n                                    </a>\\n                                \\n                                                            </div>\\n                                                    <div class=\"pick player\" data-hero-id=\"31\" data-tippy-content=\"Lich\">\\n                                <div class=\"pick__image\" style=\"background-image: url(\\'/uploads/heroes/LFPqDeXEiVOKzzrr3RxtBhDohv6afvkm.png\\');\"></div>\\n                                                                    <a href=\"https://dltv.org/players/pantomem?date_range=4#hero-lich\" class=\"pick__stats\">4 | 25%</a>\\n                                    <a href=\"https://dltv.org/players/pantomem\" target=\"_blank\" class=\"pick__player\">\\n                                        <span class=\"pick__player-flag\" style=\"background-image: url(\\'/assets/plugins/flag-icon/flags/4x3/by.svg\\')\"></span>\\n                                        <span class=\"pick__player-title\">Pantomem</span>\\n                                    </a>\\n                                \\n                                                            </div>\\n                                                    <div class=\"pick player\" data-hero-id=\"18\" data-tippy-content=\"Sven\">\\n                                <div class=\"pick__image\" style=\"background-image: url(\\'/uploads/heroes/mjGesrl8d66pJIORwic5xotkcKYFhFjb.png\\');\"></div>\\n                                                                    <a href=\"https://dltv.org/players/ramzes666?date_range=4#hero-sven\" class=\"pick__stats\">17 | 59%</a>\\n                                    <a href=\"https://dltv.org/players/ramzes666\" target=\"_blank\" class=\"pick__player\">\\n                                        <span class=\"pick__player-flag\" style=\"background-image: url(\\'/assets/plugins/flag-icon/flags/4x3/ru.svg\\')\"></span>\\n                                        <span class=\"pick__player-title\">RAMZES666</span>\\n                                    </a>\\n                                \\n                                                            </div>\\n                                                    <div class=\"pick player\" data-hero-id=\"74\" data-tippy-content=\"Invoker\">\\n                                <div class=\"pick__image\" style=\"background-image: url(\\'/uploads/heroes/13vyinyVj8bmqTm0aVSVCpKe0x5bGjfG.png\\');\"></div>\\n                                                                    <a href=\"https://dltv.org/players/re1bl?date_range=4#hero-invoker\" class=\"pick__stats\">5 | 60%</a>\\n                                    <a href=\"https://dltv.org/players/re1bl\" target=\"_blank\" class=\"pick__player\">\\n                                        <span class=\"pick__player-flag\" style=\"background-image: url(\\'/assets/plugins/flag-icon/flags/4x3/ru.svg\\')\"></span>\\n                                        <span class=\"pick__player-title\">reibl</span>\\n                                    </a>\\n                                \\n                                                            </div>\\n                                            </div>\\n                    <div class=\"bans\" style=\"display: none;\">\\n                                                    <div class=\"ban\" data-hero-id=\"87\" data-tippy-content=\"Disruptor\">\\n                                <div class=\"ban__image\" style=\"background-image: url(\\'/uploads/heroes/GJurDUJ6zW6QPzCuSauhHBm5xrKLBbzl.png\\');\"></div>\\n                            </div>\\n                                                    <div class=\"ban\" data-hero-id=\"66\" data-tippy-content=\"Chen\">\\n                                <div class=\"ban__image\" style=\"background-image: url(\\'/uploads/heroes/nA2jlzPA5ctKLmyzGucz41Enni2M5WWI.png\\');\"></div>\\n                            </div>\\n                                                    <div class=\"ban\" data-hero-id=\"15\" data-tippy-content=\"Razor\">\\n                                <div class=\"ban__image\" style=\"background-image: url(\\'/uploads/heroes/bcroiNLckt0xGscuoEpXqf2rNJYJGzFH.png\\');\"></div>\\n                            </div>\\n                                                    <div class=\"ban\" data-hero-id=\"19\" data-tippy-content=\"Tiny\">\\n                                <div class=\"ban__image\" style=\"background-image: url(\\'/uploads/heroes/W1XNCjiVgmeicn57l9zJvhFfpjHjHRKZ.png\\');\"></div>\\n                            </div>\\n                                                    <div class=\"ban\" data-hero-id=\"54\" data-tippy-content=\"Lifestealer\">\\n                                <div class=\"ban__image\" style=\"background-image: url(\\'/uploads/heroes/NzIy0xZZB8CXpdunITZ1a6fDSpyj5YF0.png\\');\"></div>\\n                            </div>\\n                                                    <div class=\"ban\" data-hero-id=\"23\" data-tippy-content=\"Kunkka\">\\n                                <div class=\"ban__image\" style=\"background-image: url(\\'/uploads/heroes/yVtE7dxBQYR7stExWLu9b7xLyUYIusMG.png\\');\"></div>\\n                            </div>\\n                                                    <div class=\"ban\" data-hero-id=\"98\" data-tippy-content=\"Timbersaw\">\\n                                <div class=\"ban__image\" style=\"background-image: url(\\'/uploads/heroes/9AYAZPhCmCyXCzkKQI72YepjApBMCfPr.png\\');\"></div>\\n                            </div>\\n                                            </div>\\n                </div>\\n            </div>\\n\\n\\n                                                                <div class=\"'"
     },
     "execution_count": 17,
     "metadata": {},
     "output_type": "execute_result"
    }
   ],
   "source": [
    "bottom_span = response.text.find('picks__new-picks')\n",
    "top_span = response.text.find('picks__new-plus__placeholder')\n",
    "span = response.text[bottom_span:top_span]\n",
    "span"
   ],
   "metadata": {
    "collapsed": false,
    "ExecuteTime": {
     "end_time": "2024-04-18T19:38:22.899942Z",
     "start_time": "2024-04-18T19:38:22.886788300Z"
    }
   },
   "id": "da61ff4fdb62e352"
  },
  {
   "cell_type": "code",
   "execution_count": 18,
   "outputs": [
    {
     "data": {
      "text/plain": "214"
     },
     "execution_count": 18,
     "metadata": {},
     "output_type": "execute_result"
    }
   ],
   "source": [
    "span.find('https://dltv.org/teams/')\n"
   ],
   "metadata": {
    "collapsed": false,
    "ExecuteTime": {
     "end_time": "2024-04-18T19:38:25.630457800Z",
     "start_time": "2024-04-18T19:38:25.620173900Z"
    }
   },
   "id": "33200ab42d102f9c"
  },
  {
   "cell_type": "code",
   "execution_count": 19,
   "outputs": [
    {
     "data": {
      "text/plain": "'https://dltv.org/teams/asakura'"
     },
     "execution_count": 19,
     "metadata": {},
     "output_type": "execute_result"
    }
   ],
   "source": [
    "span[214:300].split('\"')[0]"
   ],
   "metadata": {
    "collapsed": false,
    "ExecuteTime": {
     "end_time": "2024-04-18T19:38:27.934850200Z",
     "start_time": "2024-04-18T19:38:27.924919200Z"
    }
   },
   "id": "e8e127310906ba61"
  },
  {
   "cell_type": "code",
   "execution_count": 20,
   "outputs": [
    {
     "data": {
      "text/plain": "7461"
     },
     "execution_count": 20,
     "metadata": {},
     "output_type": "execute_result"
    }
   ],
   "source": [
    "span[300:].find('https://dltv.org/teams/')\n",
    "# span[7461:7600]"
   ],
   "metadata": {
    "collapsed": false,
    "ExecuteTime": {
     "end_time": "2024-04-18T19:38:49.922663800Z",
     "start_time": "2024-04-18T19:38:49.910925400Z"
    }
   },
   "id": "a69ee30e02999ae5"
  },
  {
   "cell_type": "code",
   "execution_count": 22,
   "outputs": [
    {
     "data": {
      "text/plain": "'https://dltv.org/teams/l1ga-team'"
     },
     "execution_count": 22,
     "metadata": {},
     "output_type": "execute_result"
    }
   ],
   "source": [
    "span[7461+300:8000].split('\"')[0]"
   ],
   "metadata": {
    "collapsed": false,
    "ExecuteTime": {
     "end_time": "2024-04-18T19:39:37.898987700Z",
     "start_time": "2024-04-18T19:39:37.878212400Z"
    }
   },
   "id": "23ff273daede6a77"
  },
  {
   "cell_type": "code",
   "execution_count": 33,
   "outputs": [],
   "source": [
    "def get_teams(response):\n",
    "    bottom_span = response.text.find('picks__new-picks')\n",
    "    top_span = response.text.find('picks__new-plus__placeholder')\n",
    "    span = response.text[bottom_span:top_span]\n",
    "    id_1 = span.find('https://dltv.org/teams/')\n",
    "    team_1 = span[id_1:id_1+100].split('\"')[0]\n",
    "    \n",
    "    \n",
    "    id_2 = span[id_1+100:].find('https://dltv.org/teams/')\n",
    "    team_2 = span[id_1+100+id_2: id_1+id_2+500].split('\"')[0]\n",
    "    team_1 = team_1.split(\"/\")[-1]\n",
    "    team_2 = team_2.split(\"/\")[-1]\n",
    "    return {'team_1': team_1, 'team_2': team_2}\n"
   ],
   "metadata": {
    "collapsed": false,
    "ExecuteTime": {
     "end_time": "2024-04-18T19:52:50.088173300Z",
     "start_time": "2024-04-18T19:52:50.067736800Z"
    }
   },
   "id": "357410cd5dfede6"
  },
  {
   "cell_type": "code",
   "execution_count": 34,
   "outputs": [
    {
     "data": {
      "text/plain": "({'side': 'radiant',\n  'pick': ['Lina', 'Batrider', 'Pangolier', 'Io', 'Marci'],\n  'team': 'asakura'},\n {'side': 'dire',\n  'pick': ['Sven', 'Invoker', 'Centaur Warrunner', 'Lion', 'Lich'],\n  'team': 'l1ga-team'})"
     },
     "execution_count": 34,
     "metadata": {},
     "output_type": "execute_result"
    }
   ],
   "source": [
    "get_parsed_data('https://dltv.org/matches/413887')"
   ],
   "metadata": {
    "collapsed": false,
    "ExecuteTime": {
     "end_time": "2024-04-18T19:52:52.515172600Z",
     "start_time": "2024-04-18T19:52:50.478722Z"
    }
   },
   "id": "cd45ded65826b47e"
  },
  {
   "cell_type": "code",
   "execution_count": null,
   "outputs": [],
   "source": [],
   "metadata": {
    "collapsed": false
   },
   "id": "1fe6ee03b24c2823"
  }
 ],
 "metadata": {
  "kernelspec": {
   "display_name": "Python 3",
   "language": "python",
   "name": "python3"
  },
  "language_info": {
   "codemirror_mode": {
    "name": "ipython",
    "version": 2
   },
   "file_extension": ".py",
   "mimetype": "text/x-python",
   "name": "python",
   "nbconvert_exporter": "python",
   "pygments_lexer": "ipython2",
   "version": "2.7.6"
  }
 },
 "nbformat": 4,
 "nbformat_minor": 5
}
