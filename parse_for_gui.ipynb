{
 "cells": [
  {
   "cell_type": "code",
   "execution_count": 1,
   "id": "initial_id",
   "metadata": {
    "collapsed": true,
    "ExecuteTime": {
     "end_time": "2024-04-18T17:44:39.404653300Z",
     "start_time": "2024-04-18T17:44:39.148596400Z"
    }
   },
   "outputs": [],
   "source": [
    "from parser.util import reshape_pick\n",
    "\n",
    "def get_pick_data(bottom_span, response, heroes_list):\n",
    "    pick_data = {'side': None, 'pick': []}\n",
    "    pick_raw = response.text[bottom_span: bottom_span+ response.text[bottom_span:].find('div class=\"bans\"') ]\n",
    "\n",
    "    pick_data['side'] = 'radiant' if pick_raw.find('radiant') != -1 else 'dire'\n",
    "    \n",
    "    for hero in heroes_list:\n",
    "        if pick_raw.find(hero) != -1:\n",
    "            pick_data['pick'].append(hero)\n",
    "    pick_data['pick'] = list(reshape_pick(pick_data['pick']).values())\n",
    "    return pick_data"
   ]
  },
  {
   "cell_type": "code",
   "execution_count": 4,
   "outputs": [],
   "source": [
    "import requests\n",
    "\n",
    "def get_parsed_data(match_link):\n",
    "    response = requests.get(match_link)\n",
    "    dire_span = response.text.find('<div class=\"picks__new-picks__picks dire\">')\n",
    "    radiant_span = response.text.find('<div class=\"picks__new-picks__picks radiant\">')\n",
    "    first_span = (dire_span, radiant_span) if dire_span < radiant_span else (radiant_span, dire_span)\n",
    "    \n",
    "    heroes_list = []\n",
    "\n",
    "    with open('parser/heroes.txt') as heroes:\n",
    "        for line in heroes:\n",
    "            heroes_list.append(line.strip())\n",
    "            \n",
    "    \n",
    "    temp_1 = get_pick_data(first_span[0], response, heroes_list)\n",
    "    temp_2 = get_pick_data(first_span[1], response, heroes_list)\n",
    "    return (temp_1, temp_2) if temp_1['side'] == 'radiant' else (temp_2, temp_1)"
   ],
   "metadata": {
    "collapsed": false,
    "ExecuteTime": {
     "end_time": "2024-04-18T17:45:47.298166700Z",
     "start_time": "2024-04-18T17:45:47.285952400Z"
    }
   },
   "id": "7aba48b57f067c0c"
  },
  {
   "cell_type": "code",
   "execution_count": 5,
   "outputs": [
    {
     "data": {
      "text/plain": "({'side': 'radiant',\n  'pick': ['Terrorblade',\n   'Pangolier',\n   'Doom',\n   'Dark Willow',\n   'Crystal Maiden']},\n {'side': 'dire',\n  'pick': ['Templar Assassin',\n   'Puck',\n   'Centaur Warrunner',\n   'Techies',\n   'Tiny']})"
     },
     "execution_count": 5,
     "metadata": {},
     "output_type": "execute_result"
    }
   ],
   "source": [
    "get_parsed_data('https://dltv.org/matches/413886')\n"
   ],
   "metadata": {
    "collapsed": false,
    "ExecuteTime": {
     "end_time": "2024-04-18T17:45:49.572164500Z",
     "start_time": "2024-04-18T17:45:47.742641900Z"
    }
   },
   "id": "ce285d8db25cb53c"
  },
  {
   "cell_type": "code",
   "execution_count": null,
   "outputs": [],
   "source": [],
   "metadata": {
    "collapsed": false
   },
   "id": "a44d7d67119b8222"
  }
 ],
 "metadata": {
  "kernelspec": {
   "display_name": "Python 3",
   "language": "python",
   "name": "python3"
  },
  "language_info": {
   "codemirror_mode": {
    "name": "ipython",
    "version": 2
   },
   "file_extension": ".py",
   "mimetype": "text/x-python",
   "name": "python",
   "nbconvert_exporter": "python",
   "pygments_lexer": "ipython2",
   "version": "2.7.6"
  }
 },
 "nbformat": 4,
 "nbformat_minor": 5
}
