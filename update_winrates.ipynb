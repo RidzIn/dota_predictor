{
 "cells": [
  {
   "cell_type": "code",
   "execution_count": 8,
   "id": "initial_id",
   "metadata": {
    "collapsed": true,
    "ExecuteTime": {
     "end_time": "2024-04-23T16:28:10.767333500Z",
     "start_time": "2024-04-23T16:28:10.698563200Z"
    }
   },
   "outputs": [
    {
     "data": {
      "text/plain": "   MAP                         TOURNAMENT                     TEAM     SIDE  \\\n0  1.0  Para Bellum 2020 Dota2 Tournament            Army Geniuses     dire   \n1  1.0  Para Bellum 2020 Dota2 Tournament              MS Chonburi  radiant   \n2  2.0  Para Bellum 2020 Dota2 Tournament            Army Geniuses  radiant   \n3  2.0  Para Bellum 2020 Dota2 Tournament              MS Chonburi     dire   \n4  1.0  Para Bellum 2020 Dota2 Tournament  Sterling Global Dragons     dire   \n\n  SCORE RESULT DURATION          HERO_1             HERO_2             HERO_3  \\\n0    19    WIN    19:42            Puck   Templar Assassin        Monkey King   \n1     5   LOSE    19:42  Phantom Lancer  Centaur Warrunner  Outworld Devourer   \n2    28    WIN    33:38           Meepo        Earthshaker            Abaddon   \n3    37   LOSE    33:38            Riki       Storm Spirit        Enchantress   \n4    32    WIN    34:53         Slardar             Medusa          Disruptor   \n\n         HERO_4            HERO_5  \n0       Abaddon          Snapfire  \n1   Earthshaker              Lich  \n2   Monkey King              Lich  \n3          Tiny  Treant Protector  \n4  Ember Spirit  Treant Protector  ",
      "text/html": "<div>\n<style scoped>\n    .dataframe tbody tr th:only-of-type {\n        vertical-align: middle;\n    }\n\n    .dataframe tbody tr th {\n        vertical-align: top;\n    }\n\n    .dataframe thead th {\n        text-align: right;\n    }\n</style>\n<table border=\"1\" class=\"dataframe\">\n  <thead>\n    <tr style=\"text-align: right;\">\n      <th></th>\n      <th>MAP</th>\n      <th>TOURNAMENT</th>\n      <th>TEAM</th>\n      <th>SIDE</th>\n      <th>SCORE</th>\n      <th>RESULT</th>\n      <th>DURATION</th>\n      <th>HERO_1</th>\n      <th>HERO_2</th>\n      <th>HERO_3</th>\n      <th>HERO_4</th>\n      <th>HERO_5</th>\n    </tr>\n  </thead>\n  <tbody>\n    <tr>\n      <th>0</th>\n      <td>1.0</td>\n      <td>Para Bellum 2020 Dota2 Tournament</td>\n      <td>Army Geniuses</td>\n      <td>dire</td>\n      <td>19</td>\n      <td>WIN</td>\n      <td>19:42</td>\n      <td>Puck</td>\n      <td>Templar Assassin</td>\n      <td>Monkey King</td>\n      <td>Abaddon</td>\n      <td>Snapfire</td>\n    </tr>\n    <tr>\n      <th>1</th>\n      <td>1.0</td>\n      <td>Para Bellum 2020 Dota2 Tournament</td>\n      <td>MS Chonburi</td>\n      <td>radiant</td>\n      <td>5</td>\n      <td>LOSE</td>\n      <td>19:42</td>\n      <td>Phantom Lancer</td>\n      <td>Centaur Warrunner</td>\n      <td>Outworld Devourer</td>\n      <td>Earthshaker</td>\n      <td>Lich</td>\n    </tr>\n    <tr>\n      <th>2</th>\n      <td>2.0</td>\n      <td>Para Bellum 2020 Dota2 Tournament</td>\n      <td>Army Geniuses</td>\n      <td>radiant</td>\n      <td>28</td>\n      <td>WIN</td>\n      <td>33:38</td>\n      <td>Meepo</td>\n      <td>Earthshaker</td>\n      <td>Abaddon</td>\n      <td>Monkey King</td>\n      <td>Lich</td>\n    </tr>\n    <tr>\n      <th>3</th>\n      <td>2.0</td>\n      <td>Para Bellum 2020 Dota2 Tournament</td>\n      <td>MS Chonburi</td>\n      <td>dire</td>\n      <td>37</td>\n      <td>LOSE</td>\n      <td>33:38</td>\n      <td>Riki</td>\n      <td>Storm Spirit</td>\n      <td>Enchantress</td>\n      <td>Tiny</td>\n      <td>Treant Protector</td>\n    </tr>\n    <tr>\n      <th>4</th>\n      <td>1.0</td>\n      <td>Para Bellum 2020 Dota2 Tournament</td>\n      <td>Sterling Global Dragons</td>\n      <td>dire</td>\n      <td>32</td>\n      <td>WIN</td>\n      <td>34:53</td>\n      <td>Slardar</td>\n      <td>Medusa</td>\n      <td>Disruptor</td>\n      <td>Ember Spirit</td>\n      <td>Treant Protector</td>\n    </tr>\n  </tbody>\n</table>\n</div>"
     },
     "execution_count": 8,
     "metadata": {},
     "output_type": "execute_result"
    }
   ],
   "source": [
    "import pandas as pd\n",
    "\n",
    "data = pd.read_csv('data_processing/data/datasets/full_matches.csv')\n",
    "data.head()"
   ]
  },
  {
   "cell_type": "code",
   "execution_count": 9,
   "outputs": [
    {
     "ename": "ModuleNotFoundError",
     "evalue": "No module named 'parser.util'; 'parser' is not a package",
     "output_type": "error",
     "traceback": [
      "\u001B[1;31m---------------------------------------------------------------------------\u001B[0m",
      "\u001B[1;31mModuleNotFoundError\u001B[0m                       Traceback (most recent call last)",
      "Cell \u001B[1;32mIn[9], line 1\u001B[0m\n\u001B[1;32m----> 1\u001B[0m \u001B[38;5;28;01mfrom\u001B[39;00m \u001B[38;5;21;01mparser\u001B[39;00m\u001B[38;5;21;01m.\u001B[39;00m\u001B[38;5;21;01mutil\u001B[39;00m \u001B[38;5;28;01mimport\u001B[39;00m reshape_positions\n\u001B[0;32m      3\u001B[0m data \u001B[38;5;241m=\u001B[39m reshape_positions(data)\n\u001B[0;32m      4\u001B[0m data\u001B[38;5;241m.\u001B[39mhead()\n",
      "\u001B[1;31mModuleNotFoundError\u001B[0m: No module named 'parser.util'; 'parser' is not a package"
     ]
    }
   ],
   "source": [
    "from parser.util import reshape_positions\n",
    "\n",
    "data = reshape_positions(data)\n",
    "data.head()"
   ],
   "metadata": {
    "collapsed": false,
    "ExecuteTime": {
     "end_time": "2024-04-23T16:28:11.447494300Z",
     "start_time": "2024-04-23T16:28:11.411614600Z"
    }
   },
   "id": "7af15b1bfc6f8944"
  },
  {
   "cell_type": "code",
   "execution_count": 10,
   "outputs": [
    {
     "name": "stdout",
     "output_type": "stream",
     "text": [
      "C:\\Users\\Ridz\\Desktop\\dota_predictor\n"
     ]
    }
   ],
   "source": [
    "import os\n",
    "print(os.getcwd())"
   ],
   "metadata": {
    "collapsed": false,
    "ExecuteTime": {
     "end_time": "2024-04-23T16:34:20.578957200Z",
     "start_time": "2024-04-23T16:34:20.516127300Z"
    }
   },
   "id": "86b58d3fcb1555d0"
  },
  {
   "cell_type": "code",
   "execution_count": null,
   "outputs": [],
   "source": [],
   "metadata": {
    "collapsed": false
   },
   "id": "41d2e584bfacc15f"
  }
 ],
 "metadata": {
  "kernelspec": {
   "display_name": "Python 3",
   "language": "python",
   "name": "python3"
  },
  "language_info": {
   "codemirror_mode": {
    "name": "ipython",
    "version": 2
   },
   "file_extension": ".py",
   "mimetype": "text/x-python",
   "name": "python",
   "nbconvert_exporter": "python",
   "pygments_lexer": "ipython2",
   "version": "2.7.6"
  }
 },
 "nbformat": 4,
 "nbformat_minor": 5
}
