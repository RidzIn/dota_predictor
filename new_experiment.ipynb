{
 "cells": [
  {
   "cell_type": "code",
   "execution_count": 11,
   "id": "initial_id",
   "metadata": {
    "collapsed": true,
    "ExecuteTime": {
     "end_time": "2024-04-17T23:05:01.855993100Z",
     "start_time": "2024-04-17T23:04:26.677647900Z"
    }
   },
   "outputs": [
    {
     "name": "stdout",
     "output_type": "stream",
     "text": [
      "XGB model:\n",
      "\tMean predicted winrate: 0.53\n",
      "\tMean unpredicted winrate: 0.47\n",
      "RF model:\n",
      "\tMean predicted winrate: 0.55\n",
      "\tMean unpredicted winrate: 0.46\n"
     ]
    }
   ],
   "source": [
    "from data_processing.util import read_winrates\n",
    "import pandas as pd\n",
    "from joblib import load\n",
    "from data_processing.models_feedback import update_models_feedback\n",
    "\n",
    "\n",
    "df = pd.read_pickle('data_processing/data/datasets/tier_2_RESHAPED.pickle')\n",
    "\n",
    "rf_model = load('data_processing/data/models/random_forest_model.joblib')\n",
    "\n",
    "xgb_model = load('data_processing/data/models/xgb_boost_model.joblib')\n",
    "winrates = read_winrates('data_processing/data/winrates/winrates.json')\n",
    "\n",
    "update_models_feedback(df=df, model_2=rf_model, model_1=xgb_model, winrates=winrates)\n"
   ]
  },
  {
   "cell_type": "code",
   "execution_count": 14,
   "outputs": [
    {
     "data": {
      "text/plain": "{'pick_1': 0.484, 'pick_2': 0.516}"
     },
     "execution_count": 14,
     "metadata": {},
     "output_type": "execute_result"
    }
   ],
   "source": [
    "from data_processing.predict import get_meta_prediction\n",
    "\n",
    "\n",
    "get_meta_prediction(['Clinkz', 'Pangolier', 'Doom', 'Witch Doctor', 'Enchantress'],['Medusa', 'Magnus', 'Beastmaster', 'Shadow Demon', 'Bane'])"
   ],
   "metadata": {
    "collapsed": false,
    "ExecuteTime": {
     "end_time": "2024-04-17T23:21:08.496748200Z",
     "start_time": "2024-04-17T23:21:03.534751100Z"
    }
   },
   "id": "f37dfea8a4c8cf85"
  },
  {
   "cell_type": "code",
   "execution_count": null,
   "outputs": [],
   "source": [],
   "metadata": {
    "collapsed": false
   },
   "id": "c8b15a20cbd9990d"
  }
 ],
 "metadata": {
  "kernelspec": {
   "display_name": "Python 3",
   "language": "python",
   "name": "python3"
  },
  "language_info": {
   "codemirror_mode": {
    "name": "ipython",
    "version": 2
   },
   "file_extension": ".py",
   "mimetype": "text/x-python",
   "name": "python",
   "nbconvert_exporter": "python",
   "pygments_lexer": "ipython2",
   "version": "2.7.6"
  }
 },
 "nbformat": 4,
 "nbformat_minor": 5
}
