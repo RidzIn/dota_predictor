{
 "cells": [
  {
   "cell_type": "code",
   "execution_count": 7,
   "id": "initial_id",
   "metadata": {
    "collapsed": true,
    "ExecuteTime": {
     "end_time": "2024-04-18T18:37:47.549840500Z",
     "start_time": "2024-04-18T18:37:47.447184700Z"
    }
   },
   "outputs": [],
   "source": [
    "from data_processing.util import read_winrates\n",
    "import pandas as pd\n",
    "from joblib import load\n",
    "from data_processing.models_feedback import update_models_feedback\n",
    "\n",
    "\n",
    "df = pd.read_pickle('data_processing/data/datasets/tier_2_RESHAPED.pickle')\n",
    "\n",
    "rf_model = load('data_processing/data/models/random_forest_model.joblib')\n",
    "\n",
    "xgb_model = load('data_processing/data/models/xgb_boost_model.joblib')\n",
    "winrates = read_winrates('data_processing/data/winrates/winrates.json')\n",
    "\n",
    "rf_feedback = pd.read_json('data_processing/data/models_feedback/rf_model_stat.json')\n",
    "\n",
    "xgb_feedback = pd.read_json('data_processing/data/models_feedback/xgb_model_stat.json')\n",
    "\n",
    "# update_models_feedback(df=df, model_2=rf_model, model_1=xgb_model, winrates=winrates)\n"
   ]
  },
  {
   "cell_type": "code",
   "execution_count": 5,
   "outputs": [],
   "source": [
    "from data_processing.predict import get_meta_prediction\n",
    "\n",
    "pick_1 = ['Sven', 'Batrider', 'Centaur Warrunner', 'Crystal Maiden', 'Lina']\n",
    "pick_2 = ['Alchemist', 'Leshrac', 'Mars', 'Gyrocopter', 'Oracle']\n",
    "# get_meta_prediction(pick_1, pick_2)"
   ],
   "metadata": {
    "collapsed": false,
    "ExecuteTime": {
     "end_time": "2024-04-18T18:29:03.259825500Z",
     "start_time": "2024-04-18T18:29:03.243874800Z"
    }
   },
   "id": "f37dfea8a4c8cf85"
  },
  {
   "cell_type": "code",
   "execution_count": 6,
   "outputs": [
    {
     "data": {
      "text/plain": "{'pick_1': 0.6, 'pick_2': 0.4}"
     },
     "execution_count": 6,
     "metadata": {},
     "output_type": "execute_result"
    }
   ],
   "source": [
    "from data_processing.predict import get_nn_pred\n",
    "\n",
    "get_nn_pred(winrates, rf_model, pick_1, pick_2)"
   ],
   "metadata": {
    "collapsed": false,
    "ExecuteTime": {
     "end_time": "2024-04-18T18:29:04.237822300Z",
     "start_time": "2024-04-18T18:29:04.217249300Z"
    }
   },
   "id": "c8b15a20cbd9990d"
  },
  {
   "cell_type": "code",
   "execution_count": 8,
   "outputs": [
    {
     "data": {
      "text/plain": "{'rf': {'predicted_winrate': 0.51, 'unpredicted_winrate': 0.44},\n 'xgb': {'predicted_winrate': 0.53, 'unpredicted_winrate': 0.45}}"
     },
     "execution_count": 8,
     "metadata": {},
     "output_type": "execute_result"
    }
   ],
   "source": [
    "from data_processing.predict import get_feedback_prediction\n",
    "\n",
    "get_feedback_prediction(winrates, rf_feedback, xgb_feedback, rf_model, xgb_model, pick_1, pick_2)"
   ],
   "metadata": {
    "collapsed": false,
    "ExecuteTime": {
     "end_time": "2024-04-18T18:38:29.860544700Z",
     "start_time": "2024-04-18T18:38:29.843552Z"
    }
   },
   "id": "1bcf771abc4637a3"
  },
  {
   "cell_type": "code",
   "execution_count": null,
   "outputs": [],
   "source": [],
   "metadata": {
    "collapsed": false
   },
   "id": "ac18998c4f8bab59"
  }
 ],
 "metadata": {
  "kernelspec": {
   "display_name": "Python 3",
   "language": "python",
   "name": "python3"
  },
  "language_info": {
   "codemirror_mode": {
    "name": "ipython",
    "version": 2
   },
   "file_extension": ".py",
   "mimetype": "text/x-python",
   "name": "python",
   "nbconvert_exporter": "python",
   "pygments_lexer": "ipython2",
   "version": "2.7.6"
  }
 },
 "nbformat": 4,
 "nbformat_minor": 5
}
