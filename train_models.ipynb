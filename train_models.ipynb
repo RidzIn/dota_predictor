{
 "cells": [
  {
   "cell_type": "code",
   "execution_count": 41,
   "id": "initial_id",
   "metadata": {
    "collapsed": true,
    "ExecuteTime": {
     "end_time": "2024-04-17T22:40:02.309619800Z",
     "start_time": "2024-04-17T22:40:02.209967400Z"
    }
   },
   "outputs": [
    {
     "data": {
      "text/plain": "((11098, 80), (11098,), (1000, 80), (1000,))"
     },
     "execution_count": 41,
     "metadata": {},
     "output_type": "execute_result"
    }
   ],
   "source": [
    "import pandas as pd\n",
    "\n",
    "test_df = pd.read_csv('data_processing/data/datasets/features_test.csv')\n",
    "train_df = pd.read_csv('data_processing/data/datasets/features_train.csv')\n",
    "\n",
    "\n",
    "X_train = train_df.drop(['Label'], axis=1)\n",
    "y_train = train_df['Label']\n",
    "\n",
    "X_test = test_df.drop(['Label'], axis=1)\n",
    "y_test = test_df['Label']\n",
    "\n",
    "X_train.columns = [''] * len(X_train.columns)\n",
    "X_test.columns = [''] * len(X_test.columns)\n",
    "\n",
    "X_train.shape, y_train.shape, X_test.shape, y_test.shape"
   ]
  },
  {
   "cell_type": "code",
   "execution_count": 59,
   "outputs": [],
   "source": [
    "X_train = X_train.to_numpy()\n",
    "X_test = X_test.to_numpy()\n",
    "y_test = y_test.to_numpy()\n",
    "y_train = y_train.to_numpy()"
   ],
   "metadata": {
    "collapsed": false,
    "ExecuteTime": {
     "end_time": "2024-04-17T23:00:14.610313400Z",
     "start_time": "2024-04-17T23:00:14.561920300Z"
    }
   },
   "id": "c0bc4a644eb48bc4"
  },
  {
   "cell_type": "code",
   "execution_count": 62,
   "outputs": [
    {
     "name": "stdout",
     "output_type": "stream",
     "text": [
      "0.562\n"
     ]
    }
   ],
   "source": [
    "from sklearn.ensemble import RandomForestClassifier\n",
    "from sklearn.metrics import accuracy_score\n",
    "from joblib import dump, load\n",
    "\n",
    "\n",
    "rf_model = RandomForestClassifier(n_estimators=140, max_depth=15, min_samples_split=6, min_samples_leaf=2, criterion='gini', bootstrap=True, max_features=0.69, )\n",
    "rf_model.fit(X_train, y_train)\n",
    "y_pred = rf_model.predict(X_test)\n",
    "\n",
    "print(accuracy_score(y_true=y_test, y_pred=y_pred))\n",
    "\n",
    "# dump(rf_model, 'data_processing/data/models/random_forest_model.joblib')\n",
    "# model = load('data_processing/data/models/random_forest_model.joblib')"
   ],
   "metadata": {
    "collapsed": false,
    "ExecuteTime": {
     "end_time": "2024-04-17T23:02:58.907042700Z",
     "start_time": "2024-04-17T23:02:24.367482900Z"
    }
   },
   "id": "8e53d51330d2c293"
  },
  {
   "cell_type": "code",
   "execution_count": 66,
   "outputs": [],
   "source": [
    "import xgboost as xgb\n",
    "\n",
    "params = {\n",
    "    'booster': 'gbtree',\n",
    "    'n_estimators': 80,\n",
    "    'max_depth': 12,\n",
    "    'eta': 0.18793869,\n",
    "    'alpha': 0.44322488,\n",
    "    'lambda': 0.79166275,\n",
    "    'gamma': 0.095147796,\n",
    "    'min_child_weight': 4.9259686,\n",
    "    'subsample': 0.89705926,\n",
    "    'colsample_bytree': 0.9011847\n",
    "}\n",
    "\n",
    "\n",
    "xgb_classifier = xgb.XGBClassifier(**params)\n",
    "xgb_classifier.fit(X_train, y_train)\n",
    "\n",
    "y_pred = xgb_classifier.predict(X_test)\n",
    "accuracy_score(y_true=y_test, y_pred=y_pred)\n",
    "\n",
    "dump(xgb_classifier, 'data_processing/data/models/xgb_boost_model.joblib')\n",
    "model = load('data_processing/data/models/xgb_boost_model.joblib')"
   ],
   "metadata": {
    "collapsed": false,
    "ExecuteTime": {
     "end_time": "2024-04-17T23:04:01.685286Z",
     "start_time": "2024-04-17T23:04:01.048908600Z"
    }
   },
   "id": "f883a3f8293f42bc"
  },
  {
   "cell_type": "code",
   "execution_count": null,
   "outputs": [],
   "source": [],
   "metadata": {
    "collapsed": false
   },
   "id": "c911f01634b98ef6"
  }
 ],
 "metadata": {
  "kernelspec": {
   "display_name": "Python 3",
   "language": "python",
   "name": "python3"
  },
  "language_info": {
   "codemirror_mode": {
    "name": "ipython",
    "version": 2
   },
   "file_extension": ".py",
   "mimetype": "text/x-python",
   "name": "python",
   "nbconvert_exporter": "python",
   "pygments_lexer": "ipython2",
   "version": "2.7.6"
  }
 },
 "nbformat": 4,
 "nbformat_minor": 5
}
