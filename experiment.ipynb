{
 "cells": [
  {
   "cell_type": "code",
   "execution_count": 1,
   "id": "initial_id",
   "metadata": {
    "collapsed": true,
    "ExecuteTime": {
     "end_time": "2024-05-23T11:26:49.322580700Z",
     "start_time": "2024-05-23T11:26:48.088597900Z"
    }
   },
   "outputs": [
    {
     "name": "stderr",
     "output_type": "stream",
     "text": [
      "WARNING: Could not find version file at \"predictor.pkl\\__version__\".\n",
      "This means that the predictor was fit in a version `<=0.3.1`.\n"
     ]
    },
    {
     "ename": "FileNotFoundError",
     "evalue": "[Errno 2] No such file or directory: 'predictor.pkl\\\\predictor.pkl'",
     "output_type": "error",
     "traceback": [
      "\u001B[1;31m---------------------------------------------------------------------------\u001B[0m",
      "\u001B[1;31mFileNotFoundError\u001B[0m                         Traceback (most recent call last)",
      "Cell \u001B[1;32mIn[1], line 6\u001B[0m\n\u001B[0;32m      3\u001B[0m \u001B[38;5;28;01mfrom\u001B[39;00m \u001B[38;5;21;01mautogluon\u001B[39;00m\u001B[38;5;21;01m.\u001B[39;00m\u001B[38;5;21;01mtabular\u001B[39;00m \u001B[38;5;28;01mimport\u001B[39;00m TabularDataset, TabularPredictor\n\u001B[0;32m      4\u001B[0m \u001B[38;5;28;01mimport\u001B[39;00m \u001B[38;5;21;01mpandas\u001B[39;00m \u001B[38;5;28;01mas\u001B[39;00m \u001B[38;5;21;01mpd\u001B[39;00m\n\u001B[1;32m----> 6\u001B[0m predictor \u001B[38;5;241m=\u001B[39m \u001B[43mTabularPredictor\u001B[49m\u001B[38;5;241;43m.\u001B[39;49m\u001B[43mload\u001B[49m\u001B[43m(\u001B[49m\u001B[38;5;124;43m'\u001B[39;49m\u001B[38;5;124;43mpredictor.pkl\u001B[39;49m\u001B[38;5;124;43m'\u001B[39;49m\u001B[43m)\u001B[49m\n\u001B[0;32m      7\u001B[0m winrates \u001B[38;5;241m=\u001B[39m pd\u001B[38;5;241m.\u001B[39mread_json(\u001B[38;5;124m'\u001B[39m\u001B[38;5;124mdata_processing/data/winrates/updated_winrates.json\u001B[39m\u001B[38;5;124m'\u001B[39m)\n\u001B[0;32m     10\u001B[0m arr \u001B[38;5;241m=\u001B[39m get_feature_vec(winrates, pick_1\u001B[38;5;241m=\u001B[39m[\u001B[38;5;124m'\u001B[39m\u001B[38;5;124mTroll Warlord\u001B[39m\u001B[38;5;124m'\u001B[39m, \u001B[38;5;124m'\u001B[39m\u001B[38;5;124mWindranger\u001B[39m\u001B[38;5;124m'\u001B[39m, \u001B[38;5;124m'\u001B[39m\u001B[38;5;124mSlardar\u001B[39m\u001B[38;5;124m'\u001B[39m, \u001B[38;5;124m'\u001B[39m\u001B[38;5;124mMuerta\u001B[39m\u001B[38;5;124m'\u001B[39m, \u001B[38;5;124m'\u001B[39m\u001B[38;5;124mBatrider\u001B[39m\u001B[38;5;124m'\u001B[39m], pick_2\u001B[38;5;241m=\u001B[39m[\u001B[38;5;124m'\u001B[39m\u001B[38;5;124mJuggernaut\u001B[39m\u001B[38;5;124m'\u001B[39m, \u001B[38;5;124m'\u001B[39m\u001B[38;5;124mLeshrac\u001B[39m\u001B[38;5;124m'\u001B[39m, \u001B[38;5;124m'\u001B[39m\u001B[38;5;124mLegion Commander\u001B[39m\u001B[38;5;124m'\u001B[39m, \u001B[38;5;124m'\u001B[39m\u001B[38;5;124mGyrocopter\u001B[39m\u001B[38;5;124m'\u001B[39m, \u001B[38;5;124m'\u001B[39m\u001B[38;5;124mCrystal Maiden\u001B[39m\u001B[38;5;124m'\u001B[39m])\n",
      "File \u001B[1;32m~\\Desktop\\dota_predictor\\venv\\Lib\\site-packages\\autogluon\\tabular\\predictor\\predictor.py:4236\u001B[0m, in \u001B[0;36mTabularPredictor.load\u001B[1;34m(cls, path, verbosity, require_version_match, require_py_version_match, check_packages)\u001B[0m\n\u001B[0;32m   4233\u001B[0m     version_saved \u001B[38;5;241m=\u001B[39m \u001B[38;5;28;01mNone\u001B[39;00m\n\u001B[0;32m   4235\u001B[0m \u001B[38;5;28;01mif\u001B[39;00m version_saved \u001B[38;5;129;01mis\u001B[39;00m \u001B[38;5;28;01mNone\u001B[39;00m:\n\u001B[1;32m-> 4236\u001B[0m     predictor \u001B[38;5;241m=\u001B[39m \u001B[38;5;28;43mcls\u001B[39;49m\u001B[38;5;241;43m.\u001B[39;49m\u001B[43m_load\u001B[49m\u001B[43m(\u001B[49m\u001B[43mpath\u001B[49m\u001B[38;5;241;43m=\u001B[39;49m\u001B[43mpath\u001B[49m\u001B[43m)\u001B[49m\n\u001B[0;32m   4237\u001B[0m     \u001B[38;5;28;01mtry\u001B[39;00m:\n\u001B[0;32m   4238\u001B[0m         version_saved \u001B[38;5;241m=\u001B[39m predictor\u001B[38;5;241m.\u001B[39m_learner\u001B[38;5;241m.\u001B[39mversion\n",
      "File \u001B[1;32m~\\Desktop\\dota_predictor\\venv\\Lib\\site-packages\\autogluon\\tabular\\predictor\\predictor.py:4182\u001B[0m, in \u001B[0;36mTabularPredictor._load\u001B[1;34m(cls, path)\u001B[0m\n\u001B[0;32m   4177\u001B[0m \u001B[38;5;129m@classmethod\u001B[39m\n\u001B[0;32m   4178\u001B[0m \u001B[38;5;28;01mdef\u001B[39;00m \u001B[38;5;21m_load\u001B[39m(\u001B[38;5;28mcls\u001B[39m, path: \u001B[38;5;28mstr\u001B[39m):\n\u001B[0;32m   4179\u001B[0m \u001B[38;5;250m    \u001B[39m\u001B[38;5;124;03m\"\"\"\u001B[39;00m\n\u001B[0;32m   4180\u001B[0m \u001B[38;5;124;03m    Inner load method, called in `load`.\u001B[39;00m\n\u001B[0;32m   4181\u001B[0m \u001B[38;5;124;03m    \"\"\"\u001B[39;00m\n\u001B[1;32m-> 4182\u001B[0m     predictor: TabularPredictor \u001B[38;5;241m=\u001B[39m \u001B[43mload_pkl\u001B[49m\u001B[38;5;241;43m.\u001B[39;49m\u001B[43mload\u001B[49m\u001B[43m(\u001B[49m\u001B[43mpath\u001B[49m\u001B[38;5;241;43m=\u001B[39;49m\u001B[43mos\u001B[49m\u001B[38;5;241;43m.\u001B[39;49m\u001B[43mpath\u001B[49m\u001B[38;5;241;43m.\u001B[39;49m\u001B[43mjoin\u001B[49m\u001B[43m(\u001B[49m\u001B[43mpath\u001B[49m\u001B[43m,\u001B[49m\u001B[43m \u001B[49m\u001B[38;5;28;43mcls\u001B[39;49m\u001B[38;5;241;43m.\u001B[39;49m\u001B[43mpredictor_file_name\u001B[49m\u001B[43m)\u001B[49m\u001B[43m)\u001B[49m\n\u001B[0;32m   4183\u001B[0m     learner \u001B[38;5;241m=\u001B[39m predictor\u001B[38;5;241m.\u001B[39m_learner_type\u001B[38;5;241m.\u001B[39mload(path)\n\u001B[0;32m   4184\u001B[0m     predictor\u001B[38;5;241m.\u001B[39m_set_post_fit_vars(learner\u001B[38;5;241m=\u001B[39mlearner)\n",
      "File \u001B[1;32m~\\Desktop\\dota_predictor\\venv\\Lib\\site-packages\\autogluon\\common\\loaders\\load_pkl.py:43\u001B[0m, in \u001B[0;36mload\u001B[1;34m(path, format, verbose, **kwargs)\u001B[0m\n\u001B[0;32m     40\u001B[0m     compression_fn_kwargs \u001B[38;5;241m=\u001B[39m {}\n\u001B[0;32m     42\u001B[0m \u001B[38;5;28;01mif\u001B[39;00m compression_fn \u001B[38;5;129;01min\u001B[39;00m compression_fn_map:\n\u001B[1;32m---> 43\u001B[0m     \u001B[38;5;28;01mwith\u001B[39;00m \u001B[43mcompression_fn_map\u001B[49m\u001B[43m[\u001B[49m\u001B[43mcompression_fn\u001B[49m\u001B[43m]\u001B[49m\u001B[43m[\u001B[49m\u001B[38;5;124;43m\"\u001B[39;49m\u001B[38;5;124;43mopen\u001B[39;49m\u001B[38;5;124;43m\"\u001B[39;49m\u001B[43m]\u001B[49m\u001B[43m(\u001B[49m\u001B[43mvalidated_path\u001B[49m\u001B[43m,\u001B[49m\u001B[43m \u001B[49m\u001B[38;5;124;43m\"\u001B[39;49m\u001B[38;5;124;43mrb\u001B[39;49m\u001B[38;5;124;43m\"\u001B[39;49m\u001B[43m,\u001B[49m\u001B[43m \u001B[49m\u001B[38;5;241;43m*\u001B[39;49m\u001B[38;5;241;43m*\u001B[39;49m\u001B[43mcompression_fn_kwargs\u001B[49m\u001B[43m)\u001B[49m \u001B[38;5;28;01mas\u001B[39;00m fin:\n\u001B[0;32m     44\u001B[0m         \u001B[38;5;28mobject\u001B[39m \u001B[38;5;241m=\u001B[39m pickle\u001B[38;5;241m.\u001B[39mload(fin)\n\u001B[0;32m     45\u001B[0m \u001B[38;5;28;01melse\u001B[39;00m:\n",
      "\u001B[1;31mFileNotFoundError\u001B[0m: [Errno 2] No such file or directory: 'predictor.pkl\\\\predictor.pkl'"
     ]
    }
   ],
   "source": [
    "from data_processing.util import get_feature_vec\n",
    "import autogluon\n",
    "from autogluon.tabular import TabularDataset, TabularPredictor\n",
    "import pandas as pd\n",
    "\n",
    "predictor = TabularPredictor.load('predictor.pkl')\n",
    "winrates = pd.read_json('data_processing/data/winrates/updated_winrates.json')\n",
    "\n",
    "\n",
    "arr = get_feature_vec(winrates, pick_1=['Troll Warlord', 'Windranger', 'Slardar', 'Muerta', 'Batrider'], pick_2=['Juggernaut', 'Leshrac', 'Legion Commander', 'Gyrocopter', 'Crystal Maiden'])\n",
    "\n",
    "arr = arr.reshape(1, -1)"
   ]
  },
  {
   "cell_type": "code",
   "execution_count": 8,
   "outputs": [
    {
     "ename": "NameError",
     "evalue": "name 'arr' is not defined",
     "output_type": "error",
     "traceback": [
      "\u001B[1;31m---------------------------------------------------------------------------\u001B[0m",
      "\u001B[1;31mNameError\u001B[0m                                 Traceback (most recent call last)",
      "Cell \u001B[1;32mIn[8], line 1\u001B[0m\n\u001B[1;32m----> 1\u001B[0m X_test_df \u001B[38;5;241m=\u001B[39m pd\u001B[38;5;241m.\u001B[39mDataFrame(\u001B[43marr\u001B[49m, columns\u001B[38;5;241m=\u001B[39m[\u001B[38;5;124mf\u001B[39m\u001B[38;5;124m'\u001B[39m\u001B[38;5;124mfeature_\u001B[39m\u001B[38;5;132;01m{\u001B[39;00mi\u001B[38;5;241m+\u001B[39m\u001B[38;5;241m1\u001B[39m\u001B[38;5;132;01m}\u001B[39;00m\u001B[38;5;124m'\u001B[39m \u001B[38;5;28;01mfor\u001B[39;00m i \u001B[38;5;129;01min\u001B[39;00m \u001B[38;5;28mrange\u001B[39m(arr\u001B[38;5;241m.\u001B[39mshape[\u001B[38;5;241m1\u001B[39m])])\n",
      "\u001B[1;31mNameError\u001B[0m: name 'arr' is not defined"
     ]
    }
   ],
   "source": [
    "X_test_df = pd.DataFrame(arr, columns=[f'feature_{i+1}' for i in range(arr.shape[1])])"
   ],
   "metadata": {
    "collapsed": false,
    "ExecuteTime": {
     "end_time": "2024-05-23T11:18:50.738809600Z",
     "start_time": "2024-05-23T11:18:50.715885500Z"
    }
   },
   "id": "56b6adc3f3f10bdd"
  },
  {
   "cell_type": "code",
   "execution_count": 3,
   "outputs": [],
   "source": [],
   "metadata": {
    "collapsed": false,
    "ExecuteTime": {
     "end_time": "2024-05-23T11:11:49.845022200Z",
     "start_time": "2024-05-23T11:11:49.817115400Z"
    }
   },
   "id": "f3db1ebc03f6aa5c"
  },
  {
   "cell_type": "code",
   "execution_count": null,
   "outputs": [],
   "source": [],
   "metadata": {
    "collapsed": false
   },
   "id": "6197d7c7593aa43e"
  }
 ],
 "metadata": {
  "kernelspec": {
   "display_name": "Python 3",
   "language": "python",
   "name": "python3"
  },
  "language_info": {
   "codemirror_mode": {
    "name": "ipython",
    "version": 2
   },
   "file_extension": ".py",
   "mimetype": "text/x-python",
   "name": "python",
   "nbconvert_exporter": "python",
   "pygments_lexer": "ipython2",
   "version": "2.7.6"
  }
 },
 "nbformat": 4,
 "nbformat_minor": 5
}
